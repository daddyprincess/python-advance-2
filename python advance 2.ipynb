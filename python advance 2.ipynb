{
 "cells": [
  {
   "cell_type": "markdown",
   "id": "ce82c676-df94-460c-afa2-9d1ffe280b9d",
   "metadata": {},
   "source": [
    "## 1.Consider following code to answer further questions:"
   ]
  },
  {
   "cell_type": "code",
   "execution_count": null,
   "id": "d4f13dcc-d2fc-4be3-a4a9-4ab7b61f609e",
   "metadata": {},
   "outputs": [],
   "source": [
    "import pandas as pd\n",
    "course_name = [‘Data Science’, ‘Machine Learning’, ‘Big Data’, ‘Data Engineer’]\n",
    "duration = [2,3,6,4]\n",
    "df = pd.DataFrame(data = {‘course_name’ : course_name, ‘duration’ : duration})\n",
    "\n",
    "print(df.iloc[1])"
   ]
  },
  {
   "cell_type": "markdown",
   "id": "b904e823-8a3d-4ab7-bee1-e841d242f03d",
   "metadata": {},
   "source": [
    "## 2.What is the difference between the functions loc and iloc in pandas.DataFrame?"
   ]
  },
  {
   "cell_type": "code",
   "execution_count": null,
   "id": "68a35d54-b2e3-4540-a9c4-f337798bd173",
   "metadata": {},
   "outputs": [],
   "source": [
    "1.loc (Label-based selection):\n",
    "\n",
    "    ~loc is primarily label-based, meaning it uses labels or column names to select rows and columns from the DataFrame.\n",
    "    ~It includes the endpoint when slicing, meaning if you use df.loc[start:end], both the 'start' and 'end' rows will be\n",
    "     included in the selection.\n",
    "    ~You can use boolean arrays with loc to filter rows based on a condition.\n",
    "    ~You can select specific columns by providing column labels as well (e.g., df.loc[:, 'column_label']).\n",
    "    ~When using loc, both the row and column indices are inclusive.\n"
   ]
  },
  {
   "cell_type": "code",
   "execution_count": null,
   "id": "ed3e096a-4c7c-4766-9e9d-db41a668425b",
   "metadata": {},
   "outputs": [],
   "source": [
    "2.iloc (Integer-based selection):\n",
    "\n",
    "    ~iloc is primarily integer-based, meaning it uses integer indices to select rows and columns from the DataFrame.\n",
    "    ~It does not include the endpoint when slicing, meaning if you use df.iloc[start:end], the 'end' row is not included in \n",
    "     the selection.\n",
    "    ~You can use integer arrays with iloc to filter rows based on a condition.\n",
    "    ~You can select specific columns by providing integer column indices as well (e.g., df.iloc[:, 0]).\n",
    "    ~When using iloc, the row index is exclusive, which means the 'end' index in a slice is not included."
   ]
  },
  {
   "cell_type": "code",
   "execution_count": 13,
   "id": "aca4d82e-76ff-4a62-b26d-291ddc360cc1",
   "metadata": {},
   "outputs": [
    {
     "name": "stdout",
     "output_type": "stream",
     "text": [
      "1    2\n",
      "2    3\n",
      "3    4\n",
      "Name: A, dtype: int64\n",
      "1    2\n",
      "2    3\n",
      "Name: A, dtype: int64\n"
     ]
    }
   ],
   "source": [
    "import pandas as pd\n",
    "\n",
    "data = {'A': [1, 2, 3, 4, 5],\n",
    "        'B': [10, 20, 30, 40, 50]}\n",
    "\n",
    "df = pd.DataFrame(data)\n",
    "\n",
    "# Using loc\n",
    "print(df.loc[1:3, 'A'])  # Includes rows 1, 2, 3 and selects column 'A'\n",
    "\n",
    "# Using iloc\n",
    "print(df.iloc[1:3, 0])  # Includes rows 1, 2 but selects the first column (index 0)\n"
   ]
  },
  {
   "cell_type": "markdown",
   "id": "a9891c4e-7488-4b97-acd8-5d7b51657c76",
   "metadata": {},
   "source": [
    "## 3.Reindex the given dataframe using a variable, reindex = [3,0,1,2] and store it in the variable, new_df then find the output for both new_df.loc[2] and new_df.iloc[2]."
   ]
  },
  {
   "cell_type": "code",
   "execution_count": 14,
   "id": "18448ab1-51fc-48ec-9fda-c4dc3dd41b8b",
   "metadata": {},
   "outputs": [
    {
     "name": "stdout",
     "output_type": "stream",
     "text": [
      "A     30\n",
      "B    300\n",
      "Name: 2, dtype: int64\n",
      "A     20\n",
      "B    200\n",
      "Name: 1, dtype: int64\n"
     ]
    }
   ],
   "source": [
    "import pandas as pd\n",
    "\n",
    "data = {'A': [10, 20, 30, 40],\n",
    "        'B': [100, 200, 300, 400]}\n",
    "\n",
    "df = pd.DataFrame(data)\n",
    "\n",
    "# Define the reindex order\n",
    "reindex_order = [3, 0, 1, 2]\n",
    "\n",
    "# Reindex the DataFrame\n",
    "new_df = df.reindex(reindex_order)\n",
    "\n",
    "# Now, let's access specific rows using loc and iloc\n",
    "\n",
    "# Using loc to access row with label/index 2\n",
    "print(new_df.loc[2])\n",
    "\n",
    "# Using iloc to access the row at integer position/index 2\n",
    "print(new_df.iloc[2])\n"
   ]
  },
  {
   "cell_type": "markdown",
   "id": "48ec35a1-f339-4a27-94a7-659364421f55",
   "metadata": {},
   "source": [
    "## 4.Write a code to find the following statistical measurements for the above dataframe df1:"
   ]
  },
  {
   "cell_type": "code",
   "execution_count": 15,
   "id": "5abb8eb2-e41a-47a0-a64f-691807e297b4",
   "metadata": {},
   "outputs": [
    {
     "name": "stdout",
     "output_type": "stream",
     "text": [
      "Mean of each column:\n",
      "column_1    0.519807\n",
      "column_2    0.557041\n",
      "column_3    0.456977\n",
      "column_4    0.357910\n",
      "column_5    0.601938\n",
      "column_6    0.575272\n",
      "dtype: float64\n",
      "\n",
      "Standard Deviation of 'column_2':\n",
      "0.3437380595833455\n"
     ]
    }
   ],
   "source": [
    "import pandas as pd\n",
    "import numpy as np\n",
    "\n",
    "columns = ['column_1', 'column_2', 'column_3', 'column_4', 'column_5', 'column_6']\n",
    "indices = [1, 2, 3, 4, 5, 6]\n",
    "\n",
    "# Creating a DataFrame:\n",
    "df1 = pd.DataFrame(np.random.rand(6, 6), columns=columns, index=indices)\n",
    "\n",
    "# (i) Mean of each and every column\n",
    "column_means = df1.mean()\n",
    "print(\"Mean of each column:\")\n",
    "print(column_means)\n",
    "\n",
    "# (ii) Standard deviation of 'column_2'\n",
    "column_2_std = df1['column_2'].std()\n",
    "print(\"\\nStandard Deviation of 'column_2':\")\n",
    "print(column_2_std)\n"
   ]
  },
  {
   "cell_type": "markdown",
   "id": "546c1991-3d8d-41e3-82b6-3a804c3981f6",
   "metadata": {},
   "source": [
    "## Q5. Replace the data present in the second row of column, ‘column_2’ by a string variable then find the mean of column, column_2."
   ]
  },
  {
   "cell_type": "code",
   "execution_count": null,
   "id": "e09c2a4a-6d3b-492a-801b-06b1675c3db5",
   "metadata": {},
   "outputs": [],
   "source": [
    "import pandas as pd\n",
    "import numpy as np\n",
    "\n",
    "columns = ['column_1', 'column_2', 'column_3', 'column_4', 'column_5', 'column_6']\n",
    "indices = [1, 2, 3, 4, 5, 6]\n",
    "\n",
    "# Creating a DataFrame:\n",
    "df1 = pd.DataFrame(np.random.rand(6, 6), columns=columns, index=indices)\n",
    "\n",
    "# Attempt to replace the data in the second row of 'column_2' with a string\n",
    "df1.loc[2, 'column_2'] = 'Hello'  # This line will raise an error\n",
    "\n",
    "# Calculate the mean of 'column_2'\n",
    "column_2_mean = df1['column_2'].mean()\n",
    "print(\"Mean of 'column_2':\", column_2_mean)"
   ]
  },
  {
   "cell_type": "markdown",
   "id": "f4cfc271-38b2-4de4-b3af-15db2f1ab598",
   "metadata": {},
   "source": [
    "## Q6. What do you understand about the windows function in pandas and list the types of windows functions?"
   ]
  },
  {
   "cell_type": "code",
   "execution_count": null,
   "id": "4fd1b0db-c1f2-4d83-8987-f13ff70e67d9",
   "metadata": {},
   "outputs": [],
   "source": [
    "1.rolling(): This function creates a Rolling object that can be used for calculating statistics over a rolling window of data. \n",
    "  You can apply functions like sum(), mean(), std(), etc., to this object to compute statistics over a specified window size.\n",
    "\n",
    "Example:"
   ]
  },
  {
   "cell_type": "code",
   "execution_count": null,
   "id": "a95517ee-c86d-42f0-93d1-1df6f55f4e5b",
   "metadata": {},
   "outputs": [],
   "source": [
    "df['rolling_mean'] = df['column'].rolling(window=3).mean()"
   ]
  },
  {
   "cell_type": "code",
   "execution_count": null,
   "id": "be224d26-5f76-423c-8f3e-305e29eeba75",
   "metadata": {},
   "outputs": [],
   "source": [
    "2.expanding(): The Expanding object allows you to calculate cumulative statistics over the entire dataset, gradually expanding\n",
    "  the window with each data point.\n",
    "\n",
    "Example:"
   ]
  },
  {
   "cell_type": "code",
   "execution_count": null,
   "id": "b71d29a6-a74b-40eb-bbed-77276b3314d3",
   "metadata": {},
   "outputs": [],
   "source": [
    "df['cumulative_sum'] = df['column'].expanding().sum()"
   ]
  },
  {
   "cell_type": "code",
   "execution_count": null,
   "id": "66e3dea9-0bff-4db4-94f4-45952c285d5c",
   "metadata": {},
   "outputs": [],
   "source": [
    "3.ewm() (Exponentially Weighted Moving Average): This function is used to calculate exponentially weighted statistics, which\n",
    " assign different weights to data points based on their recency. It's often used in financial analysis and time series data.\n",
    "\n",
    "Example:"
   ]
  },
  {
   "cell_type": "code",
   "execution_count": null,
   "id": "c05d6431-d408-4bb1-8de6-3b1fc3d076e9",
   "metadata": {},
   "outputs": [],
   "source": [
    "df['ewma'] = df['column'].ewm(span=3).mean()"
   ]
  },
  {
   "cell_type": "code",
   "execution_count": null,
   "id": "3955b594-0a31-4849-bddf-0f78c2dbe100",
   "metadata": {},
   "outputs": [],
   "source": [
    "4.shift(): While not a traditional window function, the shift() function is used to create lag values in your DataFrame. It\n",
    "  can be useful for time series analysis and creating features for predictive modeling.\n",
    "\n",
    "Example:"
   ]
  },
  {
   "cell_type": "code",
   "execution_count": null,
   "id": "c802b676-f4b8-4303-84b3-d7450b4afc75",
   "metadata": {},
   "outputs": [],
   "source": [
    "df['lagged_column'] = df['column'].shift(1)"
   ]
  },
  {
   "cell_type": "code",
   "execution_count": null,
   "id": "5afbf79c-1781-4f52-98b9-e3835cec1b04",
   "metadata": {},
   "outputs": [],
   "source": [
    "5.rolling_apply(): This allows you to apply a custom function over a rolling window. It gives you flexibility in performing \n",
    "  specialized calculations.\n",
    "\n",
    "Example:"
   ]
  },
  {
   "cell_type": "code",
   "execution_count": null,
   "id": "6b65d0a8-fd0a-443d-99e6-4822f92e13dc",
   "metadata": {},
   "outputs": [],
   "source": [
    "def custom_function(window):\n",
    "    # Your custom logic here\n",
    "    return window.mean()\n",
    "\n",
    "df['custom_rolling_mean'] = df['column'].rolling(window=3).apply(custom_function)"
   ]
  },
  {
   "cell_type": "markdown",
   "id": "009a2082-6652-4bc7-944f-c24fafba90b2",
   "metadata": {},
   "source": [
    "## Q7. Write a code to print only the current month and year at the time of answering this question."
   ]
  },
  {
   "cell_type": "code",
   "execution_count": 22,
   "id": "fd0a4428-5866-4e54-9c6b-cd9bc36af776",
   "metadata": {},
   "outputs": [
    {
     "name": "stdout",
     "output_type": "stream",
     "text": [
      "Current Month: 9\n",
      "Current Year: 2023\n"
     ]
    },
    {
     "name": "stderr",
     "output_type": "stream",
     "text": [
      "/tmp/ipykernel_103/406002213.py:4: FutureWarning: The parsing of 'now' in pd.to_datetime without `utc=True` is deprecated. In a future version, this will match Timestamp('now') and Timestamp.now()\n",
      "  current_datetime = pd.to_datetime('now')\n"
     ]
    }
   ],
   "source": [
    "import pandas as pd\n",
    "\n",
    "# Get the current date and time\n",
    "current_datetime = pd.to_datetime('now')\n",
    "\n",
    "# Extract the month and year from the current datetime\n",
    "current_month = current_datetime.month\n",
    "current_year = current_datetime.year\n",
    "\n",
    "# Print the current month and year\n",
    "print(f\"Current Month: {current_month}\")\n",
    "print(f\"Current Year: {current_year}\")\n"
   ]
  },
  {
   "cell_type": "markdown",
   "id": "fa8e4bee-5648-4f82-af4d-b15f53737fe1",
   "metadata": {},
   "source": [
    "## Q8. Write a Python program that takes in two dates as input (in the format YYYY-MM-DD) and calculates the difference between them in days, hours, and minutes using Pandas time delta. The program should prompt the user to enter the dates and display the result."
   ]
  },
  {
   "cell_type": "code",
   "execution_count": 24,
   "id": "bc50e70f-7d17-4929-abdc-254b5e0de91d",
   "metadata": {},
   "outputs": [
    {
     "name": "stdin",
     "output_type": "stream",
     "text": [
      "Enter the first date (YYYY-MM-DD):  2002-01-01\n",
      "Enter the second date (YYYY-MM-DD):  2002-02-15\n"
     ]
    },
    {
     "name": "stdout",
     "output_type": "stream",
     "text": [
      "Time Difference: 45 days, 0 hours, 0 minutes.\n"
     ]
    }
   ],
   "source": [
    "import pandas as pd\n",
    "\n",
    "# Input date format\n",
    "date_format = '%Y-%m-%d'\n",
    "\n",
    "# Prompt the user for the first date\n",
    "date_str1 = input(\"Enter the first date (YYYY-MM-DD): \")\n",
    "date1 = pd.to_datetime(date_str1, format=date_format)\n",
    "\n",
    "# Prompt the user for the second date\n",
    "date_str2 = input(\"Enter the second date (YYYY-MM-DD): \")\n",
    "date2 = pd.to_datetime(date_str2, format=date_format)\n",
    "\n",
    "# Calculate the time difference\n",
    "time_difference = date2 - date1\n",
    "\n",
    "# Extract days, hours, and minutes from the time difference\n",
    "days = time_difference.days\n",
    "hours, remainder = divmod(time_difference.seconds, 3600)\n",
    "minutes = remainder // 60\n",
    "\n",
    "# Display the result\n",
    "print(f\"Time Difference: {days} days, {hours} hours, {minutes} minutes.\")\n"
   ]
  },
  {
   "cell_type": "markdown",
   "id": "fabe9d00-3613-43c4-999a-bb433a1cef71",
   "metadata": {},
   "source": [
    "## Q9. Write a Python program that reads a CSV file containing categorical data and converts a specified column to a categorical data type. The program should prompt the user to enter the file path, column name, and category order, and then display the sorted data."
   ]
  },
  {
   "cell_type": "code",
   "execution_count": null,
   "id": "57881aba-3c03-46ce-935d-336f4f322d2a",
   "metadata": {},
   "outputs": [],
   "source": [
    "import pandas as pd\n",
    "\n",
    "# Prompt the user for the file path\n",
    "file_path = input(\"Enter the path to the CSV file: \")\n",
    "\n",
    "# Read the CSV file into a DataFrame\n",
    "try:\n",
    "    df = pd.read_csv(file_path)\n",
    "except FileNotFoundError:\n",
    "    print(\"File not found. Please check the file path.\")\n",
    "    exit(1)\n",
    "\n",
    "# Prompt the user for the column name to convert to categorical\n",
    "column_name = input(\"Enter the name of the column to convert to categorical: \")\n",
    "\n",
    "# Check if the specified column exists in the DataFrame\n",
    "if column_name not in df.columns:\n",
    "    print(f\"Column '{column_name}' not found in the CSV file.\")\n",
    "    exit(1)\n",
    "\n",
    "# Prompt the user for the category order (comma-separated)\n",
    "categories = input(\"Enter the category order (comma-separated): \").split(',')\n",
    "\n",
    "# Convert the specified column to a categorical data type\n",
    "df[column_name] = pd.Categorical(df[column_name], categories=categories, ordered=True)\n",
    "\n",
    "# Sort the DataFrame based on the categorical column\n",
    "sorted_df = df.sort_values(by=column_name)\n",
    "\n",
    "# Display the sorted data\n",
    "print(sorted_df)\n"
   ]
  },
  {
   "cell_type": "markdown",
   "id": "83438893-ec8f-40ed-8bba-5c3b01874894",
   "metadata": {},
   "source": [
    "## Q10. Write a Python program that reads a CSV file containing sales data for different products and visualizes the data using a stacked bar chart to show the sales of each product category over time. The program should prompt the user to enter the file path and display the chart."
   ]
  },
  {
   "cell_type": "code",
   "execution_count": null,
   "id": "a356e528-d95d-4990-a748-5b4455b4d323",
   "metadata": {},
   "outputs": [],
   "source": [
    "import pandas as pd\n",
    "import matplotlib.pyplot as plt\n",
    "\n",
    "# Prompt the user for the file path\n",
    "file_path = input(\"Enter the path to the CSV file: \")\n",
    "\n",
    "# Read the CSV file into a DataFrame\n",
    "try:\n",
    "    df = pd.read_csv(file_path)\n",
    "except FileNotFoundError:\n",
    "    print(\"File not found. Please check the file path.\")\n",
    "    exit(1)\n",
    "\n",
    "# Prompt the user for the column names for time (e.g., date) and product category\n",
    "time_column = input(\"Enter the name of the time column (e.g., date): \")\n",
    "category_column = input(\"Enter the name of the product category column: \")\n",
    "\n",
    "# Prompt the user for the product categories to visualize (comma-separated)\n",
    "categories = input(\"Enter the product categories to visualize (comma-separated): \").split(',')\n",
    "\n",
    "# Pivot the data to prepare it for the stacked bar chart\n",
    "pivot_df = df.pivot(index=time_column, columns=category_column, values='sales')\n",
    "\n",
    "# Plot the stacked bar chart\n",
    "pivot_df.plot(kind='bar', stacked=True, figsize=(10, 6))\n",
    "plt.title('Sales by Product Category Over Time')\n",
    "plt.xlabel(time_column)\n",
    "plt.ylabel('Sales')\n",
    "plt.legend(title=category_column, loc='upper right')\n",
    "\n",
    "# Show the chart\n",
    "plt.show()\n"
   ]
  },
  {
   "cell_type": "markdown",
   "id": "5f31bfd3-d1cf-4189-aa52-0c3a8b340b24",
   "metadata": {},
   "source": [
    "## Q11. You are given a CSV file containing student data that includes the student ID and their test score. Write a Python program that reads the CSV file, calculates the mean, median, and mode of the test scores, and displays the result in a table."
   ]
  },
  {
   "cell_type": "code",
   "execution_count": null,
   "id": "f0452c8d-46a0-4d5a-877e-1c0aa11eea2a",
   "metadata": {},
   "outputs": [],
   "source": [
    "import pandas as pd\n",
    "\n",
    "# Prompt the user for the file path\n",
    "file_path = input(\"Enter the file path of the CSV file containing the student data: \")\n",
    "\n",
    "# Read the CSV file into a DataFrame\n",
    "try:\n",
    "    df = pd.read_csv(file_path)\n",
    "except FileNotFoundError:\n",
    "    print(\"File not found. Please check the file path.\")\n",
    "    exit(1)\n",
    "\n",
    "# Calculate the mean, median, and mode of the test scores\n",
    "mean_score = df['Test Score'].mean()\n",
    "median_score = df['Test Score'].median()\n",
    "mode_scores = df['Test Score'].mode()\n",
    "\n",
    "# Display the results in a table\n",
    "results = pd.DataFrame({'Statistic': ['Mean', 'Median', 'Mode'],\n",
    "                        'Value': [mean_score, median_score, ', '.join(map(str, mode_scores.tolist()))]})\n",
    "\n",
    "print(results)\n"
   ]
  }
 ],
 "metadata": {
  "kernelspec": {
   "display_name": "Python 3 (ipykernel)",
   "language": "python",
   "name": "python3"
  },
  "language_info": {
   "codemirror_mode": {
    "name": "ipython",
    "version": 3
   },
   "file_extension": ".py",
   "mimetype": "text/x-python",
   "name": "python",
   "nbconvert_exporter": "python",
   "pygments_lexer": "ipython3",
   "version": "3.10.8"
  }
 },
 "nbformat": 4,
 "nbformat_minor": 5
}
